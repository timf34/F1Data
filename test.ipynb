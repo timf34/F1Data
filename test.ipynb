{
 "cells": [
  {
   "cell_type": "markdown",
   "source": [
    "I am just going to use this notebook to mess around with the dataframe object and understand how to use it more.\n",
    "\n",
    "_I will mostly write the functions in the `main.py` script and then bring them over to hear for posterity._"
   ],
   "metadata": {
    "collapsed": false,
    "pycharm": {
     "name": "#%% md\n"
    }
   }
  },
  {
   "cell_type": "code",
   "execution_count": 1,
   "metadata": {
    "collapsed": true,
    "pycharm": {
     "name": "#%%\n"
    }
   },
   "outputs": [
    {
     "name": "stderr",
     "output_type": "stream",
     "text": [
      "core           INFO \tLoading data for Spanish Grand Prix - Race [v2.2.9]\n",
      "api            INFO \tUsing cached data for driver_info\n",
      "api            INFO \tUsing cached data for timing_data\n",
      "api            INFO \tUsing cached data for timing_app_data\n",
      "core           INFO \tProcessing timing data...\n",
      "api            INFO \tUsing cached data for session_status_data\n",
      "api            INFO \tUsing cached data for track_status_data\n",
      "api            INFO \tUsing cached data for car_data\n",
      "api            INFO \tUsing cached data for position_data\n",
      "api            INFO \tUsing cached data for weather_data\n",
      "api            INFO \tUsing cached data for race_control_messages\n",
      "core           INFO \tFinished loading data for 20 drivers: ['44', '77', '33', '5', '16', '10', '20', '55', '26', '8', '23', '3', '27', '7', '11', '99', '63', '88', '18', '4']\n"
     ]
    }
   ],
   "source": [
    "from matplotlib import pyplot as plt\n",
    "import fastf1\n",
    "import fastf1.plotting\n",
    "\n",
    "fastf1.plotting.setup_mpl()\n",
    "\n",
    "# Set the cache\n",
    "fastf1.Cache.enable_cache('f1cache')\n",
    "session = fastf1.get_session(2019, 'Spanish', 'R')\n",
    "session.load()"
   ]
  },
  {
   "cell_type": "code",
   "execution_count": 11,
   "outputs": [
    {
     "name": "stdout",
     "output_type": "stream",
     "text": [
      "sessions results\n",
      "   DriverNumber BroadcastName Abbreviation  TeamName TeamColor FirstName  \\\n",
      "44           44    L HAMILTON          HAM  Mercedes    00d2be     Lewis   \n",
      "77           77      V BOTTAS          BOT  Mercedes    00d2be  Valtteri   \n",
      "\n",
      "    LastName         FullName  Position  GridPosition  Q1  Q2  Q3  \\\n",
      "44  Hamilton   Lewis Hamilton       1.0           2.0 NaT NaT NaT   \n",
      "77    Bottas  Valtteri Bottas       2.0           1.0 NaT NaT NaT   \n",
      "\n",
      "                     Time    Status  Points  \n",
      "44 0 days 01:35:50.443000  Finished    26.0  \n",
      "77 0 days 01:35:54.517000  Finished    18.0  \n"
     ]
    }
   ],
   "source": [
    "# Remember that I can use slicing to only get the first few entries from a data column\n",
    "print(\"sessions results\")\n",
    "print(session.results[:2])\n",
    "# print(session.results.columns)"
   ],
   "metadata": {
    "collapsed": false,
    "pycharm": {
     "name": "#%%\n"
    }
   }
  },
  {
   "cell_type": "code",
   "execution_count": 23,
   "outputs": [
    {
     "name": "stdout",
     "output_type": "stream",
     "text": [
      "pos data\n",
      "                       Date    Status  X  Y  Z Source                   Time  \\\n",
      "100 2019-05-12 12:40:35.546  OffTrack  0  0  0    pos 0 days 00:00:35.492000   \n",
      "101 2019-05-12 12:40:35.846  OffTrack  0  0  0    pos 0 days 00:00:35.792000   \n",
      "102 2019-05-12 12:40:36.146  OffTrack  0  0  0    pos 0 days 00:00:36.092000   \n",
      "\n",
      "               SessionTime  \n",
      "100 0 days 00:00:35.492000  \n",
      "101 0 days 00:00:35.792000  \n",
      "102 0 days 00:00:36.092000  \n",
      "dict_keys(['44', '77', '33', '5', '16', '10', '20', '55', '26', '8', '23', '3', '27', '7', '11', '99', '63', '88', '18', '4'])\n",
      "Index(['Date', 'Status', 'X', 'Y', 'Z', 'Source', 'Time', 'SessionTime'], dtype='object')\n"
     ]
    }
   ],
   "source": [
    "print(\"pos data\")\n",
    "print(session.pos_data['44'][100:103])\n",
    "print(session.pos_data.keys())\n",
    "print(session.pos_data['44'].columns)"
   ],
   "metadata": {
    "collapsed": false,
    "pycharm": {
     "name": "#%%\n"
    }
   }
  },
  {
   "cell_type": "code",
   "execution_count": null,
   "outputs": [],
   "source": [
    "for key, value in session.pos_data:\n",
    "    print()"
   ],
   "metadata": {
    "collapsed": false,
    "pycharm": {
     "name": "#%%\n"
    }
   }
  },
  {
   "cell_type": "code",
   "execution_count": 2,
   "outputs": [],
   "source": [
    "from typing import Tuple\n",
    "import pandas\n",
    "\n",
    "def get_timing_data() -> Tuple[pandas.DataFrame, pandas.DataFrame]:\n",
    "    \"\"\"\n",
    "    # https://theoehrly.github.io/Fast-F1/api.html#fastf1.api.timing_data\n",
    "    :return:\n",
    "        (DataFrame, DataFrame): The first DataFrame is the lap data, the second is the stream_data (with gap times!)\n",
    "\n",
    "    \"\"\"\n",
    "    return fastf1.api.timing_data(session.api_path)"
   ],
   "metadata": {
    "collapsed": false,
    "pycharm": {
     "name": "#%%\n"
    }
   }
  },
  {
   "cell_type": "code",
   "execution_count": 3,
   "outputs": [],
   "source": [
    "def print_pandas_dataframe_info(dataframe: pandas.DataFrame) -> None:\n",
    "    \"\"\"\n",
    "    This function takes a dataframe as an argument, then prints useful information about said dataFrame\n",
    "    (i.e. columns, number of rows, etc.)\n",
    "    :param dataframe:\n",
    "    :return:\n",
    "    \"\"\"\n",
    "    print(\"dataframe columns: \\n\", dataframe.columns, \"\\n\")\n",
    "    print(\"dataframe shape: \\n\", dataframe.shape, \"\\n\")\n",
    "    print(\"dataframe info: \", dataframe.info(), \"\\n\")\n",
    "    print(\"dataframe head: \\n\", dataframe.head(), \"\\n\")\n",
    "    print(\"dataframe tail: \\n\", dataframe.tail(), \"\\n\")\n",
    "    print(\"dataframe attributes: \\n\", dataframe.__dict__.keys(), \"\\n\")"
   ],
   "metadata": {
    "collapsed": false,
    "pycharm": {
     "name": "#%%\n"
    }
   }
  },
  {
   "cell_type": "code",
   "execution_count": 5,
   "outputs": [
    {
     "name": "stderr",
     "output_type": "stream",
     "text": [
      "api            INFO \tUsing cached data for timing_data\n"
     ]
    },
    {
     "name": "stdout",
     "output_type": "stream",
     "text": [
      "dataframe columns: \n",
      " Index(['Time', 'Driver', 'Position', 'GapToLeader', 'IntervalToPositionAhead'], dtype='object') \n",
      "\n",
      "dataframe shape: \n",
      " (25408, 5) \n",
      "\n",
      "<class 'pandas.core.frame.DataFrame'>\n",
      "RangeIndex: 25408 entries, 0 to 25407\n",
      "Data columns (total 5 columns):\n",
      " #   Column                   Non-Null Count  Dtype          \n",
      "---  ------                   --------------  -----          \n",
      " 0   Time                     25408 non-null  timedelta64[ns]\n",
      " 1   Driver                   25408 non-null  object         \n",
      " 2   Position                 25408 non-null  int64          \n",
      " 3   GapToLeader              25388 non-null  object         \n",
      " 4   IntervalToPositionAhead  25383 non-null  object         \n",
      "dtypes: int64(1), object(3), timedelta64[ns](1)\n",
      "memory usage: 992.6+ KB\n",
      "dataframe info:  None \n",
      "\n",
      "dataframe head: \n",
      "                     Time Driver  Position GapToLeader IntervalToPositionAhead\n",
      "0 0 days 00:00:06.010000     77         1         NaN                     NaN\n",
      "1 0 days 00:00:08.204000     77         1       LAP 1                   LAP 1\n",
      "2 0 days 00:33:19.403000     77         2       LAP 1                   LAP 1\n",
      "3 0 days 00:33:19.443000     77         1       LAP 1                   LAP 1\n",
      "4 0 days 00:33:24.535000     77         2       LAP 1                   LAP 1 \n",
      "\n",
      "dataframe tail: \n",
      "                         Time Driver  Position GapToLeader  \\\n",
      "25403 0 days 02:09:20.866000     27        13     +39.228   \n",
      "25404 0 days 02:09:24.811000     27        13     +39.366   \n",
      "25405 0 days 02:09:31.260000     27        13     +39.423   \n",
      "25406 0 days 02:09:33.669000     27        13     +39.412   \n",
      "25407 0 days 02:09:36.751000     27        13     +39.241   \n",
      "\n",
      "      IntervalToPositionAhead  \n",
      "25403                  +2.593  \n",
      "25404                  +2.518  \n",
      "25405                  +2.467  \n",
      "25406                  +2.468  \n",
      "25407                  +2.483   \n",
      "\n",
      "dataframe attributes: \n",
      " dict_keys(['_attrs', '_flags', '_metadata', '_mgr', '_typ', '_item_cache']) \n",
      "\n"
     ]
    }
   ],
   "source": [
    "lap_data, stream_data = get_timing_data()\n",
    "print_pandas_dataframe_info(stream_data)"
   ],
   "metadata": {
    "collapsed": false,
    "pycharm": {
     "name": "#%%\n"
    }
   }
  },
  {
   "cell_type": "code",
   "execution_count": 6,
   "outputs": [
    {
     "name": "stdout",
     "output_type": "stream",
     "text": [
      "                       Time Driver  Position GapToLeader  \\\n",
      "2100 0 days 01:16:28.251000      5         5     +25.210   \n",
      "2101 0 days 01:16:31.361000      5         5     +25.141   \n",
      "2102 0 days 01:16:34.986000      5         5     +24.904   \n",
      "2103 0 days 01:16:37.925000      5         5     +24.652   \n",
      "2104 0 days 01:16:40.189000      5         5     +24.428   \n",
      "2105 0 days 01:16:44.879000      5         5     +24.647   \n",
      "2106 0 days 01:16:47.696000      5         5     +24.636   \n",
      "2107 0 days 01:16:51.049000      5         5     +24.600   \n",
      "2108 0 days 01:16:53.851000      5         5     +24.547   \n",
      "2109 0 days 01:16:57.487000      5         5     +24.638   \n",
      "2110 0 days 01:17:02.794000      5         5     +24.539   \n",
      "2111 0 days 01:17:07.880000      5         5     +24.759   \n",
      "2112 0 days 01:17:11.794000      5         5     +24.666   \n",
      "2113 0 days 01:17:16.208000      5         5     +24.656   \n",
      "2114 0 days 01:17:19.208000      5         5     +24.463   \n",
      "2115 0 days 01:17:22.427000      5         5     +24.311   \n",
      "2116 0 days 01:17:24.464000      5         5     +24.192   \n",
      "2117 0 days 01:17:32.130000      5         5     +24.311   \n",
      "2118 0 days 01:17:37.007000      5         5     +24.545   \n",
      "2119 0 days 01:17:41.073000      5         5     +24.496   \n",
      "2120 0 days 01:17:47.568000      5         5     +24.631   \n",
      "2121 0 days 01:17:49.928000      5         5     +24.576   \n",
      "2122 0 days 01:17:52.965000      5         5     +24.466   \n",
      "2123 0 days 01:17:56.540000      5         5     +24.174   \n",
      "2124 0 days 01:17:59.461000      5         5     +23.872   \n",
      "2125 0 days 01:18:01.686000      5         5     +23.674   \n",
      "2126 0 days 01:18:06.570000      5         5     +24.218   \n",
      "2127 0 days 01:18:09.630000      5         5     +24.333   \n",
      "2128 0 days 01:18:13.102000      5         5     +24.389   \n",
      "2129 0 days 01:18:16.076000      5         5     +24.332   \n",
      "2130 0 days 01:18:19.723000      5         5     +24.500   \n",
      "2131 0 days 01:18:24.980000      5         5     +24.540   \n",
      "2132 0 days 01:18:30.150000      5         5     +24.752   \n",
      "2133 0 days 01:18:34.088000      5         5     +24.663   \n",
      "2134 0 days 01:18:38.526000      5         5     +24.726   \n",
      "2135 0 days 01:18:41.605000      5         5     +24.631   \n",
      "2136 0 days 01:18:44.901000      5         5     +24.526   \n",
      "2137 0 days 01:18:46.948000      5         5     +24.377   \n",
      "2138 0 days 01:18:54.698000      5         5     +24.455   \n",
      "2139 0 days 01:18:59.527000      5         5     +24.605   \n",
      "2140 0 days 01:19:03.542000      5         5     +24.639   \n",
      "2141 0 days 01:19:10.154000      5         5     +24.842   \n",
      "2142 0 days 01:19:12.559000      5         5     +24.835   \n",
      "2143 0 days 01:19:15.696000      5         5     +24.782   \n",
      "2144 0 days 01:19:19.263000      5         5     +24.562   \n",
      "2145 0 days 01:19:22.232000      5         5     +24.333   \n",
      "2146 0 days 01:19:24.623000      5         5     +24.233   \n",
      "2147 0 days 01:19:29.123000      5         5     +24.456   \n",
      "2148 0 days 01:19:31.951000      5         5     +24.447   \n",
      "2149 0 days 01:19:35.404000      5         5     +24.437   \n",
      "\n",
      "     IntervalToPositionAhead  \n",
      "2100                  +0.947  \n",
      "2101                  +0.900  \n",
      "2102                  +0.709  \n",
      "2103                  +0.487  \n",
      "2104                  +0.366  \n",
      "2105                  +0.627  \n",
      "2106                  +0.637  \n",
      "2107                  +0.612  \n",
      "2108                  +0.583  \n",
      "2109                  +0.692  \n",
      "2110                  +0.802  \n",
      "2111                  +0.924  \n",
      "2112                  +0.899  \n",
      "2113                  +0.940  \n",
      "2114                  +0.944  \n",
      "2115                  +0.888  \n",
      "2116                  +0.804  \n",
      "2117                  +0.814  \n",
      "2118                  +0.773  \n",
      "2119                  +0.777  \n",
      "2120                  +0.828  \n",
      "2121                  +0.811  \n",
      "2122                  +0.741  \n",
      "2123                  +0.512  \n",
      "2124                  +0.259  \n",
      "2125                  +0.098  \n",
      "2126                  +0.339  \n",
      "2127                  +0.370  \n",
      "2128                  +0.460  \n",
      "2129                  +0.442  \n",
      "2130                  +0.663  \n",
      "2131                  +0.702  \n",
      "2132                  +0.762  \n",
      "2133                  +0.714  \n",
      "2134                  +0.743  \n",
      "2135                  +0.740  \n",
      "2136                  +0.729  \n",
      "2137                  +0.692  \n",
      "2138                  +0.783  \n",
      "2139                  +0.793  \n",
      "2140                  +0.845  \n",
      "2141                  +0.860  \n",
      "2142                  +0.868  \n",
      "2143                  +0.849  \n",
      "2144                  +0.700  \n",
      "2145                  +0.518  \n",
      "2146                  +0.474  \n",
      "2147                  +0.638  \n",
      "2148                  +0.625  \n",
      "2149                  +0.652  \n"
     ]
    }
   ],
   "source": [
    "print(stream_data[2100:2150])"
   ],
   "metadata": {
    "collapsed": false,
    "pycharm": {
     "name": "#%%\n"
    }
   }
  },
  {
   "cell_type": "code",
   "execution_count": 9,
   "outputs": [
    {
     "name": "stdout",
     "output_type": "stream",
     "text": [
      "                        Time Driver  Position GapToLeader  \\\n",
      "0     0 days 00:00:06.010000     77         1         NaN   \n",
      "1438  0 days 00:00:06.010000      5         3         NaN   \n",
      "22916 0 days 00:00:06.010000     63        19         NaN   \n",
      "21527 0 days 00:00:06.010000     99        18         NaN   \n",
      "2839  0 days 00:00:06.010000     33         4         NaN   \n",
      "...                      ...    ...       ...         ...   \n",
      "21525 0 days 02:10:04.598000     88        18         1 L   \n",
      "12210 0 days 02:11:16.762000      4        20         22L   \n",
      "21526 0 days 02:11:16.762000     88        18          1L   \n",
      "20158 0 days 02:11:16.762000     18        19         22L   \n",
      "23995 0 days 02:11:16.762000     63        17          1L   \n",
      "\n",
      "      IntervalToPositionAhead  \n",
      "0                         NaN  \n",
      "1438                      NaN  \n",
      "22916                     NaN  \n",
      "21527                     NaN  \n",
      "2839                      NaN  \n",
      "...                       ...  \n",
      "21525                  +7.286  \n",
      "12210                  +0.585  \n",
      "21526                  +7.286  \n",
      "20158                     21L  \n",
      "23995                      1L  \n",
      "\n",
      "[25408 rows x 5 columns]\n"
     ]
    }
   ],
   "source": [
    "print(stream_data.sort_values('Time'))"
   ],
   "metadata": {
    "collapsed": false,
    "pycharm": {
     "name": "#%%\n"
    }
   }
  },
  {
   "cell_type": "code",
   "execution_count": 9,
   "outputs": [
    {
     "name": "stdout",
     "output_type": "stream",
     "text": [
      "<class 'pandas._libs.tslibs.timedeltas.Timedelta'>\n",
      "0 days 00:43:36.811000\n",
      "2616.811\n",
      "<class 'float'>\n"
     ]
    }
   ],
   "source": [
    "print(type(stream_data.Time[0]))\n",
    "print(stream_data.Time[10000])\n",
    "print(stream_data.Time[10000].total_seconds())\n",
    "print(type(stream_data.Time[10000].total_seconds()))"
   ],
   "metadata": {
    "collapsed": false,
    "pycharm": {
     "name": "#%%\n"
    }
   }
  },
  {
   "cell_type": "code",
   "execution_count": 13,
   "outputs": [
    {
     "name": "stdout",
     "output_type": "stream",
     "text": [
      "26168.11\n",
      "8\n"
     ]
    }
   ],
   "source": [
    "y = stream_data.Time[10000].total_seconds() * 10\n",
    "print(y)\n",
    "y = int(y%10)\n",
    "print(y)"
   ],
   "metadata": {
    "collapsed": false,
    "pycharm": {
     "name": "#%%\n"
    }
   }
  },
  {
   "cell_type": "code",
   "execution_count": null,
   "outputs": [],
   "source": [],
   "metadata": {
    "collapsed": false,
    "pycharm": {
     "name": "#%%\n"
    }
   }
  }
 ],
 "metadata": {
  "kernelspec": {
   "display_name": "Python 3",
   "language": "python",
   "name": "python3"
  },
  "language_info": {
   "codemirror_mode": {
    "name": "ipython",
    "version": 2
   },
   "file_extension": ".py",
   "mimetype": "text/x-python",
   "name": "python",
   "nbconvert_exporter": "python",
   "pygments_lexer": "ipython2",
   "version": "2.7.6"
  }
 },
 "nbformat": 4,
 "nbformat_minor": 0
}