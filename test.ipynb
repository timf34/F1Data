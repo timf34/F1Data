{
 "cells": [
  {
   "cell_type": "markdown",
   "source": [
    "I am just going to use this notebook to mess around with the dataframe object and understand how to use it more.\n",
    "\n",
    "_I will mostly write the functions in the `main.py` script and then bring them over to hear for posterity._"
   ],
   "metadata": {
    "collapsed": false,
    "pycharm": {
     "name": "#%% md\n"
    }
   }
  },
  {
   "cell_type": "code",
   "execution_count": null,
   "metadata": {
    "collapsed": true,
    "pycharm": {
     "name": "#%%\n",
     "is_executing": true
    }
   },
   "outputs": [],
   "source": [
    "from matplotlib import pyplot as plt\n",
    "import fastf1\n",
    "import fastf1.plotting\n",
    "\n",
    "fastf1.plotting.setup_mpl()\n",
    "\n",
    "# Set the cache\n",
    "fastf1.Cache.enable_cache('f1cache')\n",
    "session = fastf1.get_session(2019, 'Spanish', 'R')\n",
    "session.load()"
   ]
  },
  {
   "cell_type": "code",
   "execution_count": 11,
   "outputs": [
    {
     "name": "stdout",
     "output_type": "stream",
     "text": [
      "sessions results\n",
      "   DriverNumber BroadcastName Abbreviation  TeamName TeamColor FirstName  \\\n",
      "44           44    L HAMILTON          HAM  Mercedes    00d2be     Lewis   \n",
      "77           77      V BOTTAS          BOT  Mercedes    00d2be  Valtteri   \n",
      "\n",
      "    LastName         FullName  Position  GridPosition  Q1  Q2  Q3  \\\n",
      "44  Hamilton   Lewis Hamilton       1.0           2.0 NaT NaT NaT   \n",
      "77    Bottas  Valtteri Bottas       2.0           1.0 NaT NaT NaT   \n",
      "\n",
      "                     Time    Status  Points  \n",
      "44 0 days 01:35:50.443000  Finished    26.0  \n",
      "77 0 days 01:35:54.517000  Finished    18.0  \n"
     ]
    }
   ],
   "source": [
    "# Remember that I can use slicing to only get the first few entries from a data column\n",
    "print(\"sessions results\")\n",
    "print(session.results[:2])\n",
    "# print(session.results.columns)"
   ],
   "metadata": {
    "collapsed": false,
    "pycharm": {
     "name": "#%%\n"
    }
   }
  },
  {
   "cell_type": "code",
   "execution_count": 23,
   "outputs": [
    {
     "name": "stdout",
     "output_type": "stream",
     "text": [
      "pos data\n",
      "                       Date    Status  X  Y  Z Source                   Time  \\\n",
      "100 2019-05-12 12:40:35.546  OffTrack  0  0  0    pos 0 days 00:00:35.492000   \n",
      "101 2019-05-12 12:40:35.846  OffTrack  0  0  0    pos 0 days 00:00:35.792000   \n",
      "102 2019-05-12 12:40:36.146  OffTrack  0  0  0    pos 0 days 00:00:36.092000   \n",
      "\n",
      "               SessionTime  \n",
      "100 0 days 00:00:35.492000  \n",
      "101 0 days 00:00:35.792000  \n",
      "102 0 days 00:00:36.092000  \n",
      "dict_keys(['44', '77', '33', '5', '16', '10', '20', '55', '26', '8', '23', '3', '27', '7', '11', '99', '63', '88', '18', '4'])\n",
      "Index(['Date', 'Status', 'X', 'Y', 'Z', 'Source', 'Time', 'SessionTime'], dtype='object')\n"
     ]
    }
   ],
   "source": [
    "print(\"pos data\")\n",
    "print(session.pos_data['44'][100:103])\n",
    "print(session.pos_data.keys())\n",
    "print(session.pos_data['44'].columns)"
   ],
   "metadata": {
    "collapsed": false,
    "pycharm": {
     "name": "#%%\n"
    }
   }
  },
  {
   "cell_type": "code",
   "execution_count": null,
   "outputs": [],
   "source": [
    "for key, value in session.pos_data:\n",
    "    print()"
   ],
   "metadata": {
    "collapsed": false,
    "pycharm": {
     "name": "#%%\n"
    }
   }
  }
 ],
 "metadata": {
  "kernelspec": {
   "display_name": "Python 3",
   "language": "python",
   "name": "python3"
  },
  "language_info": {
   "codemirror_mode": {
    "name": "ipython",
    "version": 2
   },
   "file_extension": ".py",
   "mimetype": "text/x-python",
   "name": "python",
   "nbconvert_exporter": "python",
   "pygments_lexer": "ipython2",
   "version": "2.7.6"
  }
 },
 "nbformat": 4,
 "nbformat_minor": 0
}